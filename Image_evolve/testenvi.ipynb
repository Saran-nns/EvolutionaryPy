{
 "cells": [
  {
   "cell_type": "code",
   "execution_count": 12,
   "metadata": {
    "collapsed": false
   },
   "outputs": [
    {
     "name": "stdout",
     "output_type": "stream",
     "text": [
      "DNA_POOL SHape (10, 56, 32)\n",
      "DNA_POOL[0] [[ 1.  0.  0. ...,  1.  0.  0.]\n",
      " [ 1.  0.  1. ...,  1.  0.  1.]\n",
      " [ 0.  0.  1. ...,  0.  1.  0.]\n",
      " ..., \n",
      " [ 0.  1.  0. ...,  1.  0.  1.]\n",
      " [ 1.  1.  0. ...,  1.  0.  0.]\n",
      " [ 0.  1.  0. ...,  1.  0.  0.]]\n",
      "DNA_POOL[0] Shape (56, 32)\n",
      "DNA_POOL[0][0:8,0] [ 1.  1.  0.  0.  1.  0.  1.  1.  1.  1.  0.  0.  0.  0.  0.  0.  1.  1.\n",
      "  1.  0.  1.  1.  1.  1.  0.  1.  0.  0.  0.  1.  0.  1.  1.  1.  1.  1.\n",
      "  0.  1.  0.  0.  0.  1.  0.  0.  1.  1.  1.  1.  1.  0.  1.  1.  1.  0.\n",
      "  1.  0.]\n",
      "1\n"
     ]
    }
   ],
   "source": [
    "%matplotlib inline\n",
    "import os\n",
    "from scipy.ndimage import imread\n",
    "import matplotlib.pyplot as plt\n",
    "from PIL import Image\n",
    "import numpy as np\n",
    "import random\n",
    "#import bin8_int\n",
    "#import dna_rgb_average\n",
    "\n",
    "img=os.path.join('C:/Users/Saran/!Imgevolve/image.png')\n",
    "in_image=imread(img,flatten=False,mode='RGB')\n",
    "#a=np.shape(in_image)\n",
    "#print(a)\n",
    "\n",
    "#print(range(1,dna_num))\n",
    "\n",
    "dna_num = 10; \n",
    "#print(len(gene_pool))\n",
    "#print(len(gene_pool[0][15]))\n",
    "#gene=[[(1,2,3,4),(4,5,6,4)]]*3\n",
    "\n",
    "dna_pool=[0]*dna_num # Initialize the dna lists \n",
    "\n",
    "\n",
    "for idx,dna in enumerate(dna_pool):\n",
    "    gene_pool=np.empty((56,32))\n",
    "    for x in range(0,len(gene_pool)): #56\n",
    "        for y in range(0,len(gene_pool[0])): #32\n",
    "            gene_pool[x][y]= random.choice([0,1]);\n",
    "    dna_pool[idx]=(gene_pool)\n",
    "\n",
    "print (\"DNA_POOL SHape\",np.shape(dna_pool))\n",
    "print (\"DNA_POOL[0]\",dna_pool[0])\n",
    "print (\"DNA_POOL[0] Shape\",np.shape(dna_pool[0]))\n",
    "print(\"DNA_POOL[0][0:8,0]\",dna_pool[0][:,0])\n",
    "#x1 = int ( (dna_pool[0][0:8,0]),2 );\n",
    "#print (x)\n",
    "#x1=dna_pool[0][0:8,0]\n",
    "#x2=dna_pool[0][9:17,0]\n",
    "#x1,x2=bin8_int(x1),bin8_int(x2)\n",
    "#print(x1,x2)\n",
    "#print(min(x1,x2),max(x1,x2))\n",
    "#x=np.random.random((5,5))\n",
    "print(np.uint8(max(1,1)))\n",
    "\n",
    "\n",
    "\n",
    "\n",
    "#rgb=dna_rgb_average.dna_to_rgb_average(dna[0])\n",
    "#print (rgb)\n"
   ]
  }
 ],
 "metadata": {
  "anaconda-cloud": {},
  "kernelspec": {
   "display_name": "python3.5",
   "language": "python",
   "name": "python3.5"
  },
  "language_info": {
   "codemirror_mode": {
    "name": "ipython",
    "version": 3
   },
   "file_extension": ".py",
   "mimetype": "text/x-python",
   "name": "python",
   "nbconvert_exporter": "python",
   "pygments_lexer": "ipython3",
   "version": "3.5.1"
  }
 },
 "nbformat": 4,
 "nbformat_minor": 2
}
